{
 "cells": [
  {
   "cell_type": "markdown",
   "id": "45b6456b",
   "metadata": {
    "vscode": {
     "languageId": "plaintext"
    }
   },
   "source": [
    "# API Github"
   ]
  },
  {
   "cell_type": "code",
   "execution_count": null,
   "id": "a35d685b",
   "metadata": {
    "vscode": {
     "languageId": "plaintext"
    }
   },
   "outputs": [],
   "source": [
    "import requests "
   ]
  },
  {
   "cell_type": "code",
   "execution_count": null,
   "id": "d9f14792",
   "metadata": {
    "vscode": {
     "languageId": "plaintext"
    }
   },
   "outputs": [],
   "source": [
    "r = requests.get('https://api.github.com/events')"
   ]
  },
  {
   "cell_type": "code",
   "execution_count": null,
   "id": "bd308717",
   "metadata": {
    "vscode": {
     "languageId": "plaintext"
    }
   },
   "outputs": [],
   "source": [
    "r "
   ]
  },
  {
   "cell_type": "code",
   "execution_count": null,
   "id": "5d3ab1f7",
   "metadata": {
    "vscode": {
     "languageId": "plaintext"
    }
   },
   "outputs": [],
   "source": [
    "r = requests.get('https://api.github.com/versions')\n",
    "r.status_code"
   ]
  },
  {
   "cell_type": "code",
   "execution_count": null,
   "id": "6a481ebf",
   "metadata": {
    "vscode": {
     "languageId": "plaintext"
    }
   },
   "outputs": [],
   "source": [
    "r.json()"
   ]
  },
  {
   "cell_type": "markdown",
   "id": "18f9b5c4",
   "metadata": {
    "vscode": {
     "languageId": "plaintext"
    }
   },
   "source": [
    "# Extract"
   ]
  },
  {
   "cell_type": "code",
   "execution_count": null,
   "id": "382b7e95",
   "metadata": {
    "vscode": {
     "languageId": "plaintext"
    }
   },
   "outputs": [],
   "source": [
    "# especificando versão da API \n",
    "headers = {'X-GitHub-Api-Versions':'2022-11-28'}"
   ]
  },
  {
   "cell_type": "code",
   "execution_count": null,
   "id": "c281a85b",
   "metadata": {
    "vscode": {
     "languageId": "plaintext"
    }
   },
   "outputs": [],
   "source": [
    "api_base_url = 'https://api.github.com'\n",
    "owner = 'amzn' # user para extrair os dados\n",
    "url = f'{api_base_url}/users/{owner}/repos'"
   ]
  },
  {
   "cell_type": "code",
   "execution_count": null,
   "id": "c0a69a86",
   "metadata": {
    "vscode": {
     "languageId": "plaintext"
    }
   },
   "outputs": [],
   "source": [
    "url"
   ]
  },
  {
   "cell_type": "code",
   "execution_count": null,
   "id": "bb252f27",
   "metadata": {
    "vscode": {
     "languageId": "plaintext"
    }
   },
   "outputs": [],
   "source": [
    "response = requests.get(url, headers=headers)\n",
    "response.status_code"
   ]
  },
  {
   "cell_type": "code",
   "execution_count": null,
   "id": "84ad5b15",
   "metadata": {
    "vscode": {
     "languageId": "plaintext"
    }
   },
   "outputs": [],
   "source": [
    "len(response.json())"
   ]
  },
  {
   "cell_type": "markdown",
   "id": "adb60d25",
   "metadata": {
    "vscode": {
     "languageId": "plaintext"
    }
   },
   "source": [
    "## autorização"
   ]
  },
  {
   "cell_type": "code",
   "execution_count": null,
   "id": "7f6e9cd1",
   "metadata": {
    "vscode": {
     "languageId": "plaintext"
    }
   },
   "outputs": [],
   "source": [
    "import os\n",
    "access_token = os.getenv('TOKEN_GITHUB')\n",
    "headers = {'Authorization': f'Bearer {access_token}','X-GitHub-Api-Versions':'2022-11-28'}"
   ]
  },
  {
   "cell_type": "markdown",
   "id": "eeb7d2bb",
   "metadata": {
    "vscode": {
     "languageId": "plaintext"
    }
   },
   "source": [
    "## paginação"
   ]
  },
  {
   "cell_type": "code",
   "execution_count": null,
   "id": "c3d8297b",
   "metadata": {
    "vscode": {
     "languageId": "plaintext"
    }
   },
   "outputs": [],
   "source": [
    "#lista de paginas + .json()\n",
    "repos_list = [] # lista composta por sub listas.\n",
    "for page_num in range(1,6):\n",
    "    params = {'page': page_num,'per_page': 100} # de 100 em 100 ate a 5 page.\n",
    "    try:\n",
    "        response = requests.get(url,headers=headers,params=params)\n",
    "        if response.status_code == 200:\n",
    "            repos_list.append(response.json())\n",
    "        else:\n",
    "            print(f'Página {page_num} retornou status {response.status_code}')\n",
    "            repos_list.append(None)\n",
    "    except Exception as e:\n",
    "        print(f'Erro ao acessar página {page_num}: {e}')\n",
    "        repos_list.append(None)"
   ]
  },
  {
   "cell_type": "code",
   "execution_count": null,
   "id": "60f5b2fd",
   "metadata": {
    "vscode": {
     "languageId": "plaintext"
    }
   },
   "outputs": [],
   "source": [
    "len(repos_list) # paginas"
   ]
  },
  {
   "cell_type": "code",
   "execution_count": null,
   "id": "fc9412b7",
   "metadata": {
    "vscode": {
     "languageId": "plaintext"
    }
   },
   "outputs": [],
   "source": [
    "len(repos_list[0]) # conteudo"
   ]
  },
  {
   "cell_type": "markdown",
   "id": "f00d9fd0",
   "metadata": {
    "vscode": {
     "languageId": "plaintext"
    }
   },
   "source": [
    "# Transform"
   ]
  },
  {
   "cell_type": "code",
   "execution_count": null,
   "id": "2712074e",
   "metadata": {
    "vscode": {
     "languageId": "plaintext"
    }
   },
   "outputs": [],
   "source": [
    "repos_list[0][4]['name'] # abre uma das listas e checa dados(name)"
   ]
  },
  {
   "cell_type": "code",
   "execution_count": null,
   "id": "8e43e235",
   "metadata": {
    "vscode": {
     "languageId": "plaintext"
    }
   },
   "outputs": [],
   "source": [
    "repos_name = []\n",
    "for page in repos_list: # lista com varias listas\n",
    "    if page is not None:\n",
    "        for repo in page: # dentro de uma das listas\n",
    "            repos_name.append(repo['name']) # adiciona o nome dentro de cada uma das listas da lista de listas."
   ]
  },
  {
   "cell_type": "code",
   "execution_count": null,
   "id": "ad888b06",
   "metadata": {
    "vscode": {
     "languageId": "plaintext"
    }
   },
   "outputs": [],
   "source": [
    "len(repos_name) # checando se pegou todos os repositorios da API."
   ]
  },
  {
   "cell_type": "code",
   "execution_count": null,
   "id": "4ec7da4e",
   "metadata": {
    "vscode": {
     "languageId": "plaintext"
    }
   },
   "outputs": [],
   "source": [
    "repos_name[:10]"
   ]
  },
  {
   "cell_type": "code",
   "execution_count": null,
   "id": "06912d9f",
   "metadata": {
    "vscode": {
     "languageId": "plaintext"
    }
   },
   "outputs": [],
   "source": [
    "repos_lang = []\n",
    "for page in repos_list:\n",
    "    if page is not None:\n",
    "        for repos in page:\n",
    "            repos_lang.append(repos['language'])"
   ]
  },
  {
   "cell_type": "code",
   "execution_count": null,
   "id": "5d9a6cf5",
   "metadata": {
    "vscode": {
     "languageId": "plaintext"
    }
   },
   "outputs": [],
   "source": [
    "repos_lang[:5]"
   ]
  },
  {
   "cell_type": "code",
   "execution_count": null,
   "id": "45ed4c71",
   "metadata": {
    "vscode": {
     "languageId": "plaintext"
    }
   },
   "outputs": [],
   "source": [
    "len(repos_lang)"
   ]
  },
  {
   "cell_type": "markdown",
   "id": "6949bfec",
   "metadata": {
    "vscode": {
     "languageId": "plaintext"
    }
   },
   "source": [
    "## DataFrame"
   ]
  },
  {
   "cell_type": "code",
   "execution_count": null,
   "id": "52068798",
   "metadata": {
    "vscode": {
     "languageId": "plaintext"
    }
   },
   "outputs": [],
   "source": [
    "import pandas as pd"
   ]
  },
  {
   "cell_type": "code",
   "execution_count": null,
   "id": "0c56cdc1",
   "metadata": {
    "vscode": {
     "languageId": "plaintext"
    }
   },
   "outputs": [],
   "source": [
    "dados_amz = pd.DataFrame() # fazendo o DF\n",
    "dados_amz['repository Name'] = repos_name # criando coluna para lista de names.\n",
    "dados_amz['Languages'] = repos_lang # coluna de linguagens usadas."
   ]
  },
  {
   "cell_type": "code",
   "execution_count": null,
   "id": "2ef9c9d6",
   "metadata": {
    "vscode": {
     "languageId": "plaintext"
    }
   },
   "outputs": [],
   "source": [
    "# checagem \n",
    "dados_amz"
   ]
  },
  {
   "cell_type": "code",
   "execution_count": null,
   "id": "a7805356",
   "metadata": {
    "vscode": {
     "languageId": "plaintext"
    }
   },
   "outputs": [],
   "source": [
    "dados_amz.to_csv('amazon.csv')"
   ]
  },
  {
   "cell_type": "markdown",
   "id": "38c8104a",
   "metadata": {
    "vscode": {
     "languageId": "plaintext"
    }
   },
   "source": [
    "# Load"
   ]
  },
  {
   "cell_type": "code",
   "execution_count": null,
   "id": "7bc7a76a",
   "metadata": {
    "vscode": {
     "languageId": "plaintext"
    }
   },
   "outputs": [],
   "source": [
    "api_base_url = 'https://api.github.com' # api de antes\n",
    "url = f'{api_base_url}/user/repos'\n",
    "url"
   ]
  },
  {
   "cell_type": "code",
   "execution_count": null,
   "id": "7de7405b",
   "metadata": {
    "vscode": {
     "languageId": "plaintext"
    }
   },
   "outputs": [],
   "source": [
    "# criando repositorio POST\n",
    "data = {\n",
    "    'name':'linguagens_utilizadas',\n",
    "    'description':'Repositorio com linguages de Prog Amazon',\n",
    "    'private': False # true == privado | false == publico\n",
    "\n",
    "response = requests.post(url, json=data, headers=headers) # esse codigo vai criar o repositorio com as caractericas de data\n",
    "response.status_code"
   ]
  },
  {
   "cell_type": "code",
   "execution_count": null,
   "id": "67a9b1c9",
   "metadata": {
    "vscode": {
     "languageId": "plaintext"
    }
   },
   "outputs": [],
   "source": [
    "# colocando o arquivo no formato base64\n",
    "import base64 "
   ]
  },
  {
   "cell_type": "code",
   "execution_count": null,
   "id": "c47b969e",
   "metadata": {
    "vscode": {
     "languageId": "plaintext"
    }
   },
   "outputs": [],
   "source": [
    "with open('amazon.csv', 'rb') as file: # lê o arquivo csv em binario\n",
    "    file_content = file.read()\n",
    "\n",
    "encoded_content = base64.b64encode(file_content) #arquivo base64 da DF na variavel enconded_content"
   ]
  },
  {
   "cell_type": "code",
   "execution_count": null,
   "id": "4f8e679a",
   "metadata": {
    "vscode": {
     "languageId": "plaintext"
    }
   },
   "outputs": [],
   "source": [
    "#subindo o arquivo para o repositorio\n",
    "api_base_url = 'https://api.github.com'\n",
    "username = 'FireFox-exe'\n",
    "repo = 'linguagens_utilizadas'\n",
    "path = 'amazon.csv'\n",
    "\n",
    "url = f'{api_base_url}/repos/{username}/{repo}/contents/{path}'\n",
    "url"
   ]
  },
  {
   "cell_type": "code",
   "execution_count": null,
   "id": "df23800b",
   "metadata": {
    "vscode": {
     "languageId": "plaintext"
    }
   },
   "outputs": [],
   "source": [
    "# PUT\n",
    "data = {\n",
    "    'message': 'adicionando novo arquivo',\n",
    "    'content': encoded_content.decode('utf-8') # de base4 para texto\n",
    "}\n",
    "\n",
    "response = requests.put(url, json=data, headers=headers)\n",
    "response.status_code"
   ]
  }
 ],
 "metadata": {
  "language_info": {
   "name": "python"
  }
 },
 "nbformat": 4,
 "nbformat_minor": 5
}
